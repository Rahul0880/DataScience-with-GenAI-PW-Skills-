{
  "nbformat": 4,
  "nbformat_minor": 0,
  "metadata": {
    "colab": {
      "provenance": []
    },
    "kernelspec": {
      "name": "python3",
      "display_name": "Python 3"
    },
    "language_info": {
      "name": "python"
    }
  },
  "cells": [
    {
      "cell_type": "markdown",
      "source": [
        "# Python OOPs Assignment\n",
        "\n",
        "---\n",
        "\n",
        "## Q1: What is Object-Oriented Programming (OOP)?\n",
        "**A1:** OOP is a programming paradigm that organizes code into **classes and objects**. It emphasizes principles such as **encapsulation, abstraction, inheritance, and polymorphism** to model real-world entities.\n",
        "\n",
        "---\n",
        "\n",
        "## Q2: What is a class in OOP?\n",
        "**A2:** A class is a **blueprint or template** that defines the attributes (data) and methods (functions) that the objects created from it will have.\n",
        "\n",
        "---\n",
        "\n",
        "## Q3: What is an object in OOP?\n",
        "**A3:** An object is an **instance of a class**. It represents a specific entity with its own state (attributes) and behavior (methods).\n",
        "\n",
        "---\n",
        "\n",
        "## Q4: What is the difference between abstraction and encapsulation?\n",
        "**A4:**  \n",
        "- **Abstraction:** Hides implementation details and shows only the essential features.  \n",
        "- **Encapsulation:** Combines data and methods into a single unit (class) and restricts direct access to data.\n",
        "\n",
        "---\n",
        "\n",
        "## Q5: What are dunder methods in Python?\n",
        "**A5:** Dunder methods are **special methods with double underscores** (e.g., `__init__`, `__str__`, `__len__`) that define an object’s behavior for built-in operations.\n",
        "\n",
        "---\n",
        "\n",
        "## Q6: Explain the concept of inheritance in OOP.\n",
        "**A6:** Inheritance allows a **child class** to reuse attributes and methods from a **parent class**, promoting code reuse and hierarchy.\n",
        "\n",
        "---\n",
        "\n",
        "## Q7: What is polymorphism in OOP?\n",
        "**A7:** Polymorphism allows methods to have **different implementations** while sharing the same interface, enabling flexibility.\n",
        "\n",
        "---\n",
        "\n",
        "## Q8: How is encapsulation achieved in Python?\n",
        "**A8:** By using **public, protected (`_var`), and private (`__var`) variables**, along with methods (getters/setters) to control access.\n",
        "\n",
        "---\n",
        "\n",
        "## Q9: What is a constructor in Python?\n",
        "**A9:** The constructor is the **`__init__` method**, automatically called when an object is created, used to initialize attributes.\n",
        "\n",
        "---\n",
        "\n",
        "## Q10: What are class and static methods in Python?\n",
        "**A10:**  \n",
        "- **Class method (`@classmethod`)**: Takes `cls` as the first parameter, modifies class-level data.  \n",
        "- **Static method (`@staticmethod`)**: Does not take `self` or `cls`; behaves like a normal function inside the class.\n",
        "\n",
        "---\n",
        "\n",
        "## Q11: What is method overloading in Python?\n",
        "**A11:** Python does not support true method overloading. Instead, **default arguments** or `*args, **kwargs` are used to simulate it.\n",
        "\n",
        "---\n",
        "\n",
        "## Q12: What is method overriding in OOP?\n",
        "**A12:** Method overriding occurs when a **child class provides a new implementation** of a method that is already defined in its parent class.\n",
        "\n",
        "---\n",
        "\n",
        "## Q13: What is a property decorator in Python?\n",
        "**A13:** The `@property` decorator allows defining a method that can be accessed like an attribute. It is often used for **getters, setters, and deleters**.\n",
        "\n",
        "---\n",
        "\n",
        "## Q14: Why is polymorphism important in OOP?\n",
        "**A14:** It allows **code flexibility and reusability**, enabling the same operation to behave differently depending on the object type.\n",
        "\n",
        "---\n",
        "\n",
        "## Q15: What is an abstract class in Python?\n",
        "**A15:** An abstract class (from `abc` module) can define **abstract methods** (declared but not implemented). It cannot be instantiated and enforces subclasses to implement those methods.\n",
        "\n",
        "---\n",
        "\n",
        "## Q16: What are the advantages of OOP?\n",
        "**A16:**  \n",
        "- Code reusability  \n",
        "- Modularity  \n",
        "- Scalability  \n",
        "- Maintainability  \n",
        "- Real-world modeling\n",
        "\n",
        "---\n",
        "\n",
        "## Q17: What is the difference between a class variable and an instance variable?\n",
        "**A17:**  \n",
        "- **Class variable:** Shared across all objects of a class.  \n",
        "- **Instance variable:** Unique to each object.\n",
        "\n",
        "---\n",
        "\n",
        "## Q18: What is multiple inheritance in Python?\n",
        "**A18:** Multiple inheritance allows a class to **inherit from more than one parent class**. Python resolves conflicts using **Method Resolution Order (MRO)**.\n",
        "\n",
        "---\n",
        "\n",
        "## Q19: Explain the purpose of `__str__` and `__repr__` methods in Python.\n",
        "**A19:**  \n",
        "- `__str__`: Returns a **human-readable** string (for end users).  \n",
        "- `__repr__`: Returns an **unambiguous** string (for debugging).\n",
        "\n",
        "---\n",
        "\n",
        "## Q20: What is the significance of the `super()` function in Python?\n",
        "**A20:** `super()` is used to call methods of a **parent class**, commonly used in constructors to initialize inherited attributes.\n",
        "\n",
        "---\n",
        "\n",
        "## Q21: What is the significance of the `__del__` method in Python?\n",
        "**A21:** `__del__` is the **destructor method**, called when an object is about to be destroyed to release resources.\n",
        "\n",
        "---\n",
        "\n",
        "## Q22: What is the difference between `@staticmethod` and `@classmethod` in Python?\n",
        "**A22:**  \n",
        "- **`@staticmethod`:** Does not take `self` or `cls`; used for utility functions.  \n",
        "- **`@classmethod`:** Takes `cls`; used to modify class-level state.\n",
        "\n",
        "---\n",
        "\n",
        "## Q23: How does polymorphism work in Python with inheritance?\n",
        "**A23:** A **child class can override a parent method**, and Python decides at runtime (dynamic dispatch) which method to execute.\n",
        "\n",
        "---\n",
        "\n",
        "## Q24: What is method chaining in Python OOP?\n",
        "**A24:** Method chaining is when methods return **`self`**, allowing multiple method calls in a single line:  \n",
        "`obj.method1().method2().method3()`\n",
        "\n",
        "---\n",
        "\n",
        "## Q25: What is the purpose of the `__call__` method in Python?\n",
        "**A25:** Defining `__call__` makes an **object callable like a function**, allowing instances to be used with parentheses.\n",
        "\n",
        "---\n"
      ],
      "metadata": {
        "id": "Wu47IBvjaFTG"
      }
    },
    {
      "cell_type": "code",
      "source": [
        "# Q1: Create a parent class Animal with a method speak() that prints a generic message.\n",
        "#     Create a child class Dog that overrides the speak() method to print \"Bark!\".\n",
        "\n",
        "# Parent class Animal and Child class Dog\n",
        "class Animal:\n",
        "    def speak(self):\n",
        "        print(\"This is a generic animal sound.\")\n",
        "\n",
        "class Dog(Animal):\n",
        "    def speak(self):\n",
        "        print(\"Bark!\")\n",
        "\n",
        "# Example usage\n",
        "a = Animal()\n",
        "a.speak()\n",
        "d = Dog()\n",
        "d.speak()\n"
      ],
      "metadata": {
        "colab": {
          "base_uri": "https://localhost:8080/"
        },
        "id": "2eMYH58pbDcQ",
        "outputId": "f31823d0-8c27-45fb-e42b-4a7d2fe3ffbc"
      },
      "execution_count": 4,
      "outputs": [
        {
          "output_type": "stream",
          "name": "stdout",
          "text": [
            "This is a generic animal sound.\n",
            "Bark!\n"
          ]
        }
      ]
    },
    {
      "cell_type": "code",
      "source": [
        "# Q2: Write a program to create an abstract class Shape with a method area().\n",
        "#     Derive classes Circle and Rectangle from it and implement the area() method in both.\n",
        "\n",
        "from abc import ABC, abstractmethod\n",
        "import math\n",
        "\n",
        "# Abstract base class\n",
        "class Shape(ABC):\n",
        "    @abstractmethod\n",
        "    def area(self):\n",
        "        pass\n",
        "\n",
        "# Circle class\n",
        "class Circle(Shape):\n",
        "    def __init__(self, radius):\n",
        "        self.radius = radius\n",
        "\n",
        "    def area(self):\n",
        "        return math.pi * self.radius ** 2\n",
        "\n",
        "# Rectangle class\n",
        "class Rectangle(Shape):\n",
        "    def __init__(self, length, width):\n",
        "        self.length = length\n",
        "        self.width = width\n",
        "\n",
        "    def area(self):\n",
        "        return self.length * self.width\n",
        "\n",
        "# Example usage\n",
        "c = Circle(5)\n",
        "r = Rectangle(4, 6)\n",
        "print(\"Circle area:\", c.area())\n",
        "print(\"Rectangle area:\", r.area())\n"
      ],
      "metadata": {
        "colab": {
          "base_uri": "https://localhost:8080/"
        },
        "id": "cNCEX6T4blsP",
        "outputId": "bed8e39e-789c-43de-d643-21bb5a009c09"
      },
      "execution_count": 5,
      "outputs": [
        {
          "output_type": "stream",
          "name": "stdout",
          "text": [
            "Circle area: 78.53981633974483\n",
            "Rectangle area: 24\n"
          ]
        }
      ]
    },
    {
      "cell_type": "code",
      "source": [
        "# Q3: Implement a multi-level inheritance scenario where a class Vehicle has an attribute type.\n",
        "#     Derive a class Car and further derive a class ElectricCar that adds a battery attribute.\n",
        "\n",
        "# Base class\n",
        "class Vehicle:\n",
        "    def __init__(self, vehicle_type):\n",
        "        self.type = vehicle_type\n",
        "\n",
        "# Derived class Car\n",
        "class Car(Vehicle):\n",
        "    def __init__(self, brand, vehicle_type=\"Car\"):\n",
        "        super().__init__(vehicle_type)\n",
        "        self.brand = brand\n",
        "\n",
        "# Further derived class ElectricCar\n",
        "class ElectricCar(Car):\n",
        "    def __init__(self, brand, battery_capacity):\n",
        "        super().__init__(brand)\n",
        "        self.battery = battery_capacity\n",
        "\n",
        "# Example usage\n",
        "ec = ElectricCar(\"Tesla\", \"100 kWh\")\n",
        "print(\"Type:\", ec.type)\n",
        "print(\"Brand:\", ec.brand)\n",
        "print(\"Battery:\", ec.battery)\n"
      ],
      "metadata": {
        "colab": {
          "base_uri": "https://localhost:8080/"
        },
        "id": "Dz5_XCRFbnyb",
        "outputId": "6a73cfbe-511b-4064-a5cd-f2bbd52ad439"
      },
      "execution_count": 6,
      "outputs": [
        {
          "output_type": "stream",
          "name": "stdout",
          "text": [
            "Type: Car\n",
            "Brand: Tesla\n",
            "Battery: 100 kWh\n"
          ]
        }
      ]
    },
    {
      "cell_type": "code",
      "source": [
        "# Q4: Demonstrate polymorphism by creating a base class Bird with a method fly().\n",
        "#     Create two derived classes Sparrow and Penguin that override the fly() method.\n",
        "\n",
        "# Base class\n",
        "class Bird:\n",
        "    def fly(self):\n",
        "        print(\"Some birds can fly, some cannot.\")\n",
        "\n",
        "# Derived class Sparrow\n",
        "class Sparrow(Bird):\n",
        "    def fly(self):\n",
        "        print(\"Sparrow flies high in the sky.\")\n",
        "\n",
        "# Derived class Penguin\n",
        "class Penguin(Bird):\n",
        "    def fly(self):\n",
        "        print(\"Penguins cannot fly, they swim.\")\n",
        "\n",
        "# Example usage\n",
        "b = Bird()\n",
        "b.fly()\n",
        "s = Sparrow()\n",
        "s.fly()\n",
        "p = Penguin()\n",
        "p.fly()\n"
      ],
      "metadata": {
        "colab": {
          "base_uri": "https://localhost:8080/"
        },
        "id": "T3VcTJRobvM8",
        "outputId": "964c9a2f-1d9b-40a5-b3a2-307c2a7e2f54"
      },
      "execution_count": 7,
      "outputs": [
        {
          "output_type": "stream",
          "name": "stdout",
          "text": [
            "Some birds can fly, some cannot.\n",
            "Sparrow flies high in the sky.\n",
            "Penguins cannot fly, they swim.\n"
          ]
        }
      ]
    },
    {
      "cell_type": "code",
      "source": [
        "# Q5: Write a program to demonstrate encapsulation by creating a class BankAccount\n",
        "#     with private attributes balance and methods to deposit, withdraw, and check balance.\n",
        "\n",
        "class BankAccount:\n",
        "    def __init__(self, initial_balance=0):\n",
        "        self.__balance = initial_balance   # private attribute\n",
        "\n",
        "    def deposit(self, amount):\n",
        "        self.__balance += amount\n",
        "        print(f\"Deposited: {amount}\")\n",
        "\n",
        "    def withdraw(self, amount):\n",
        "        if amount <= self.__balance:\n",
        "            self.__balance -= amount\n",
        "            print(f\"Withdrew: {amount}\")\n",
        "        else:\n",
        "            print(\"Insufficient balance!\")\n",
        "\n",
        "    def check_balance(self):\n",
        "        print(f\"Current Balance: {self.__balance}\")\n",
        "\n",
        "# Example usage\n",
        "account = BankAccount(1000)\n",
        "account.deposit(500)\n",
        "account.withdraw(200)\n",
        "account.check_balance()\n"
      ],
      "metadata": {
        "colab": {
          "base_uri": "https://localhost:8080/"
        },
        "id": "8gSP87eNbx4R",
        "outputId": "54527bd7-75e6-4c51-aa0f-f11739f2873d"
      },
      "execution_count": 8,
      "outputs": [
        {
          "output_type": "stream",
          "name": "stdout",
          "text": [
            "Deposited: 500\n",
            "Withdrew: 200\n",
            "Current Balance: 1300\n"
          ]
        }
      ]
    },
    {
      "cell_type": "code",
      "source": [
        "# Q6: Demonstrate runtime polymorphism using a method play() in a base class Instrument.\n",
        "#     Derive classes Guitar and Piano that implement their own version of play().\n",
        "\n",
        "# Base class\n",
        "class Instrument:\n",
        "    def play(self):\n",
        "        print(\"This instrument makes some sound.\")\n",
        "\n",
        "# Derived class Guitar\n",
        "class Guitar(Instrument):\n",
        "    def play(self):\n",
        "        print(\"Playing the Guitar: Strum strum.\")\n",
        "\n",
        "# Derived class Piano\n",
        "class Piano(Instrument):\n",
        "    def play(self):\n",
        "        print(\"Playing the Piano: Plink plonk.\")\n",
        "\n",
        "# Example usage\n",
        "i = Instrument()\n",
        "i.play()\n",
        "g = Guitar()\n",
        "g.play()\n",
        "p = Piano()\n",
        "p.play()\n"
      ],
      "metadata": {
        "colab": {
          "base_uri": "https://localhost:8080/"
        },
        "id": "y7Gq7IdXbzgL",
        "outputId": "0ce55a5d-4ddf-46c2-955f-11fb6222cf7c"
      },
      "execution_count": 9,
      "outputs": [
        {
          "output_type": "stream",
          "name": "stdout",
          "text": [
            "This instrument makes some sound.\n",
            "Playing the Guitar: Strum strum.\n",
            "Playing the Piano: Plink plonk.\n"
          ]
        }
      ]
    },
    {
      "cell_type": "code",
      "source": [
        "# Q7: Create a class MathOperations with a class method add_numbers() to add two numbers\n",
        "#     and a static method subtract_numbers() to subtract two numbers.\n",
        "\n",
        "class MathOperations:\n",
        "    @classmethod\n",
        "    def add_numbers(cls, a, b):\n",
        "        return a + b\n",
        "\n",
        "    @staticmethod\n",
        "    def subtract_numbers(a, b):\n",
        "        return a - b\n",
        "\n",
        "# Example usage\n",
        "print(\"Addition:\", MathOperations.add_numbers(10, 5))\n",
        "print(\"Subtraction:\", MathOperations.subtract_numbers(10, 5))\n"
      ],
      "metadata": {
        "colab": {
          "base_uri": "https://localhost:8080/"
        },
        "id": "NAOCknkAb1J1",
        "outputId": "fbdb9be4-eb84-4b99-db23-2888dae682e7"
      },
      "execution_count": 10,
      "outputs": [
        {
          "output_type": "stream",
          "name": "stdout",
          "text": [
            "Addition: 15\n",
            "Subtraction: 5\n"
          ]
        }
      ]
    },
    {
      "cell_type": "code",
      "source": [
        "# Q8: Implement a class Person with a class method to count the total number of persons created.\n",
        "\n",
        "class Person:\n",
        "    count = 0  # class variable to track instances\n",
        "\n",
        "    def __init__(self, name):\n",
        "        self.name = name\n",
        "        Person.count += 1\n",
        "\n",
        "    @classmethod\n",
        "    def total_persons(cls):\n",
        "        return cls.count\n",
        "\n",
        "# Example usage\n",
        "p1 = Person(\"Rahul\")\n",
        "p2 = Person(\"Vishal\")\n",
        "print(\"Total persons created:\", Person.total_persons())\n"
      ],
      "metadata": {
        "colab": {
          "base_uri": "https://localhost:8080/"
        },
        "id": "nkTk5JlEb22g",
        "outputId": "f64cf441-d481-4b29-a488-c0ef48184e7b"
      },
      "execution_count": 23,
      "outputs": [
        {
          "output_type": "stream",
          "name": "stdout",
          "text": [
            "Total persons created: 2\n"
          ]
        }
      ]
    },
    {
      "cell_type": "code",
      "source": [
        "# Q9: Write a class Fraction with attributes numerator and denominator.\n",
        "#     Override the __str__ method to display the fraction as \"numerator/denominator\".\n",
        "\n",
        "class Fraction:\n",
        "    def __init__(self, numerator, denominator):\n",
        "        self.numerator = numerator\n",
        "        self.denominator = denominator\n",
        "\n",
        "    def __str__(self):\n",
        "        return f\"{self.numerator}/{self.denominator}\"\n",
        "\n",
        "# Example usage\n",
        "f = Fraction(3, 4)\n",
        "print(f)\n"
      ],
      "metadata": {
        "colab": {
          "base_uri": "https://localhost:8080/"
        },
        "id": "eT_e_KPdb4dF",
        "outputId": "4c071159-812d-4e71-96c3-38f42d83a93b"
      },
      "execution_count": 12,
      "outputs": [
        {
          "output_type": "stream",
          "name": "stdout",
          "text": [
            "3/4\n"
          ]
        }
      ]
    },
    {
      "cell_type": "code",
      "source": [
        "# Q10: Demonstrate operator overloading by creating a class Vector\n",
        "#      and overriding the __add__ method to add two vectors.\n",
        "\n",
        "class Vector:\n",
        "    def __init__(self, x, y):\n",
        "        self.x = x\n",
        "        self.y = y\n",
        "\n",
        "    def __add__(self, other):\n",
        "        return Vector(self.x + other.x, self.y + other.y)\n",
        "\n",
        "    def __str__(self):\n",
        "        return f\"Vector({self.x}, {self.y})\"\n",
        "\n",
        "# Example usage\n",
        "v1 = Vector(2, 4)\n",
        "v2 = Vector(5, 7)\n",
        "print(v1 + v2)\n"
      ],
      "metadata": {
        "colab": {
          "base_uri": "https://localhost:8080/"
        },
        "id": "1JDWTfVqb8rm",
        "outputId": "a5c6e196-7d69-47b0-8f57-e35cf2cf729a"
      },
      "execution_count": 13,
      "outputs": [
        {
          "output_type": "stream",
          "name": "stdout",
          "text": [
            "Vector(7, 11)\n"
          ]
        }
      ]
    },
    {
      "cell_type": "code",
      "source": [
        "# Q11: Create a class Person with attributes name and age.\n",
        "#      Add a method greet() that prints \"Hello, my name is {name} and I am {age} years old.\"\n",
        "\n",
        "class Person:\n",
        "    def __init__(self, name, age):\n",
        "        self.name = name\n",
        "        self.age = age\n",
        "\n",
        "    def greet(self):\n",
        "        print(f\"Hello, my name is {self.name} and I am {self.age} years old.\")\n",
        "\n",
        "# Example usage\n",
        "p = Person(\"Harvey Spector\", 25)\n",
        "p.greet()\n"
      ],
      "metadata": {
        "colab": {
          "base_uri": "https://localhost:8080/"
        },
        "id": "t5CIrCAzb_FZ",
        "outputId": "ae001f4b-1488-4d56-977f-ab202bdc43b2"
      },
      "execution_count": 24,
      "outputs": [
        {
          "output_type": "stream",
          "name": "stdout",
          "text": [
            "Hello, my name is Harvey Spector and I am 25 years old.\n"
          ]
        }
      ]
    },
    {
      "cell_type": "code",
      "source": [
        "# Q12: Implement a class Student with attributes name and grades.\n",
        "#      Create a method average_grade() to compute the average of the grades.\n",
        "\n",
        "class Student:\n",
        "    def __init__(self, name, grades):\n",
        "        self.name = name\n",
        "        self.grades = grades\n",
        "\n",
        "    def average_grade(self):\n",
        "        return sum(self.grades) / len(self.grades)\n",
        "\n",
        "# Example usage\n",
        "s = Student(\"John\", [85, 90, 78])\n",
        "print(\"Average Grade:\", s.average_grade())\n"
      ],
      "metadata": {
        "colab": {
          "base_uri": "https://localhost:8080/"
        },
        "id": "pP8q7pzlcAl0",
        "outputId": "11b92f7f-3789-47c4-9b47-ee1f31852fac"
      },
      "execution_count": 15,
      "outputs": [
        {
          "output_type": "stream",
          "name": "stdout",
          "text": [
            "Average Grade: 84.33333333333333\n"
          ]
        }
      ]
    },
    {
      "cell_type": "code",
      "source": [
        "# Q13: Create a class Rectangle with methods set_dimensions() to set the dimensions\n",
        "#      and area() to calculate the area.\n",
        "\n",
        "class Rectangle:\n",
        "    def __init__(self):\n",
        "        self.length = 0\n",
        "        self.width = 0\n",
        "\n",
        "    def set_dimensions(self, length, width):\n",
        "        self.length = length\n",
        "        self.width = width\n",
        "\n",
        "    def area(self):\n",
        "        return self.length * self.width\n",
        "\n",
        "# Example usage\n",
        "r = Rectangle()\n",
        "r.set_dimensions(5, 10)\n",
        "print(\"Area of Rectangle:\", r.area())\n"
      ],
      "metadata": {
        "colab": {
          "base_uri": "https://localhost:8080/"
        },
        "id": "Pb5RIETvcCQ1",
        "outputId": "6df92a6b-ee2c-41df-cbb9-49df0b90bdab"
      },
      "execution_count": 16,
      "outputs": [
        {
          "output_type": "stream",
          "name": "stdout",
          "text": [
            "Area of Rectangle: 50\n"
          ]
        }
      ]
    },
    {
      "cell_type": "code",
      "source": [
        "# Q14: Create a class Employee with a method calculate_salary() that computes the salary\n",
        "#      based on hours worked and hourly rate.\n",
        "#      Create a derived class Manager that adds a bonus to the salary.\n",
        "\n",
        "class Employee:\n",
        "    def __init__(self, hours_worked, hourly_rate):\n",
        "        self.hours_worked = hours_worked\n",
        "        self.hourly_rate = hourly_rate\n",
        "\n",
        "    def calculate_salary(self):\n",
        "        return self.hours_worked * self.hourly_rate\n",
        "\n",
        "class Manager(Employee):\n",
        "    def __init__(self, hours_worked, hourly_rate, bonus):\n",
        "        super().__init__(hours_worked, hourly_rate)\n",
        "        self.bonus = bonus\n",
        "\n",
        "    def calculate_salary(self):\n",
        "        return super().calculate_salary() + self.bonus\n",
        "\n",
        "# Example usage\n",
        "e = Employee(40, 20)\n",
        "m = Manager(40, 20, 500)\n",
        "print(\"Employee Salary:\", e.calculate_salary())\n",
        "print(\"Manager Salary:\", m.calculate_salary())\n"
      ],
      "metadata": {
        "colab": {
          "base_uri": "https://localhost:8080/"
        },
        "id": "pbOetq1EcD2W",
        "outputId": "8d2cb742-d7e1-452a-f573-8dd97fb8141b"
      },
      "execution_count": 18,
      "outputs": [
        {
          "output_type": "stream",
          "name": "stdout",
          "text": [
            "Employee Salary: 800\n",
            "Manager Salary: 1300\n"
          ]
        }
      ]
    },
    {
      "cell_type": "code",
      "source": [
        "# Q15: Create a class Product with attributes name, price, and quantity.\n",
        "#      Implement a method total_price() that calculates the total price of the product.\n",
        "\n",
        "class Product:\n",
        "    def __init__(self, name, price, quantity):\n",
        "        self.name = name\n",
        "        self.price = price\n",
        "        self.quantity = quantity\n",
        "\n",
        "    def total_price(self):\n",
        "        return self.price * self.quantity\n",
        "\n",
        "# Example usage\n",
        "p = Product(\"Laptop\", 50000, 2)\n",
        "print(\"Total Price:\", p.total_price())\n"
      ],
      "metadata": {
        "colab": {
          "base_uri": "https://localhost:8080/"
        },
        "id": "sW6SLfZ-cG2b",
        "outputId": "784ecde7-5880-40dd-c094-a60fd40195bb"
      },
      "execution_count": 19,
      "outputs": [
        {
          "output_type": "stream",
          "name": "stdout",
          "text": [
            "Total Price: 100000\n"
          ]
        }
      ]
    },
    {
      "cell_type": "code",
      "source": [
        "# Q16: Create a class Animal with an abstract method sound().\n",
        "#      Create two derived classes Cow and Sheep that implement the sound() method.\n",
        "\n",
        "from abc import ABC, abstractmethod\n",
        "\n",
        "class Animal(ABC):\n",
        "    @abstractmethod\n",
        "    def sound(self):\n",
        "        pass\n",
        "\n",
        "class Cow(Animal):\n",
        "    def sound(self):\n",
        "        print(\"Moo\")\n",
        "\n",
        "class Sheep(Animal):\n",
        "    def sound(self):\n",
        "        print(\"Baa\")\n",
        "\n",
        "# Example usage\n",
        "c = Cow()\n",
        "s = Sheep()\n",
        "c.sound()\n",
        "s.sound()\n"
      ],
      "metadata": {
        "colab": {
          "base_uri": "https://localhost:8080/"
        },
        "id": "q_5--Yn7cNay",
        "outputId": "b763786f-eb00-4a9e-ea77-aecb5b51997e"
      },
      "execution_count": 20,
      "outputs": [
        {
          "output_type": "stream",
          "name": "stdout",
          "text": [
            "Moo\n",
            "Baa\n"
          ]
        }
      ]
    },
    {
      "cell_type": "code",
      "source": [
        "# Q17: Create a class Book with attributes title, author, and year_published.\n",
        "#      Add a method get_book_info() that returns a formatted string with the book's details.\n",
        "\n",
        "class Book:\n",
        "    def __init__(self, title, author, year_published):\n",
        "        self.title = title\n",
        "        self.author = author\n",
        "        self.year_published = year_published\n",
        "\n",
        "    def get_book_info(self):\n",
        "        return f\"'{self.title}' by {self.author}, published in {self.year_published}\"\n",
        "\n",
        "# Example usage\n",
        "b = Book(\"The Great Gatsby\", \"F. Scott Fitzgerald\", 1925)\n",
        "print(b.get_book_info())\n"
      ],
      "metadata": {
        "colab": {
          "base_uri": "https://localhost:8080/"
        },
        "id": "xKu57wB7cPHz",
        "outputId": "645c588f-086d-4046-bf81-51fe49006397"
      },
      "execution_count": 21,
      "outputs": [
        {
          "output_type": "stream",
          "name": "stdout",
          "text": [
            "'The Great Gatsby' by F. Scott Fitzgerald, published in 1925\n"
          ]
        }
      ]
    },
    {
      "cell_type": "code",
      "source": [
        "# Q18: Create a class House with attributes address and price.\n",
        "#      Create a derived class Mansion that adds an attribute number_of_rooms.\n",
        "\n",
        "class House:\n",
        "    def __init__(self, address, price):\n",
        "        self.address = address\n",
        "        self.price = price\n",
        "\n",
        "class Mansion(House):\n",
        "    def __init__(self, address, price, number_of_rooms):\n",
        "        super().__init__(address, price)\n",
        "        self.number_of_rooms = number_of_rooms\n",
        "\n",
        "# Example usage\n",
        "m = Mansion(\"Banglore \", 5000000, 10)\n",
        "print(\"Address:\", m.address)\n",
        "print(\"Price:\", m.price)\n",
        "print(\"Rooms:\", m.number_of_rooms)\n"
      ],
      "metadata": {
        "colab": {
          "base_uri": "https://localhost:8080/"
        },
        "id": "k5zBEicDcQrc",
        "outputId": "07796de9-0bed-4557-e5c0-82afcac7b2e2"
      },
      "execution_count": 25,
      "outputs": [
        {
          "output_type": "stream",
          "name": "stdout",
          "text": [
            "Address: Banglore \n",
            "Price: 5000000\n",
            "Rooms: 10\n"
          ]
        }
      ]
    },
    {
      "cell_type": "code",
      "source": [],
      "metadata": {
        "id": "mcTBFDV7cTZ5"
      },
      "execution_count": null,
      "outputs": []
    }
  ]
}