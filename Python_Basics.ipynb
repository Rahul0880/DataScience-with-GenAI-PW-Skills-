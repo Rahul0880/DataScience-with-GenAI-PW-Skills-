{
  "nbformat": 4,
  "nbformat_minor": 0,
  "metadata": {
    "colab": {
      "provenance": []
    },
    "kernelspec": {
      "name": "python3",
      "display_name": "Python 3"
    },
    "language_info": {
      "name": "python"
    }
  },
  "cells": [
    {
      "cell_type": "markdown",
      "source": [
        "# **Python Basic Questions**"
      ],
      "metadata": {
        "id": "gORSH3nHzQ4D"
      }
    },
    {
      "cell_type": "markdown",
      "metadata": {
        "id": "505b23eb"
      },
      "source": [
        "##**1. What is Python, and why is it popular?**\n",
        "\n",
        "Python is a high-level, interpreted, general-purpose programming language. It is popular due to its readability, large standard library, vast community support, and versatility across various domains like web development, data science, artificial intelligence, and automation."
      ]
    },
    {
      "cell_type": "markdown",
      "metadata": {
        "id": "dde4962c"
      },
      "source": [
        "##**2. What is an interpreter in Python?**\n",
        "\n",
        "An interpreter in Python is a program that directly executes code line by line. It translates the human-readable Python code into machine code that the computer can understand and run."
      ]
    },
    {
      "cell_type": "markdown",
      "metadata": {
        "id": "918ff6d3"
      },
      "source": [
        "##**3. What are pre-defined keywords in Python?**\n",
        "\n",
        "Pre-defined keywords (also known as reserved words) in Python are special words that have specific meanings and purposes in the language. They are used to define the syntax and structure of the Python language. Examples include `if`, `else`, `for`, `while`, `def`, `class`, `import`, etc."
      ]
    },
    {
      "cell_type": "markdown",
      "metadata": {
        "id": "a4eb0239"
      },
      "source": [
        "##**4. Can keywords be used as variable names?**\n",
        "\n",
        "No, keywords cannot be used as variable names, function names, class names, or any other identifier in Python. Doing so will result in a syntax error."
      ]
    },
    {
      "cell_type": "markdown",
      "metadata": {
        "id": "502ef7c0"
      },
      "source": [
        "##**5. What is mutability in Python?**\n",
        "\n",
        "Mutability in Python refers to whether an object's state can be changed after it is created. Mutable objects can be modified after creation, while immutable objects cannot."
      ]
    },
    {
      "cell_type": "markdown",
      "metadata": {
        "id": "24b3fcdd"
      },
      "source": [
        "##**6. Why are lists mutable, but tuples are immutable?**\n",
        "\n",
        "Lists are mutable because their elements can be added, removed, or modified after the list is created. Tuples are immutable because their elements cannot be changed, added, or removed after the tuple is created. This difference in mutability is a fundamental characteristic of these data structures."
      ]
    },
    {
      "cell_type": "markdown",
      "metadata": {
        "id": "dfe5fa5d"
      },
      "source": [
        "##**7. What is the difference between “==” and “is” operators in Python?**\n",
        "\n",
        "The `==` operator checks for value equality. It determines if the values of two operands are equal.\n",
        "The `is` operator checks for identity equality. It determines if two operands refer to the same object in memory."
      ]
    },
    {
      "cell_type": "markdown",
      "metadata": {
        "id": "85aa4f52"
      },
      "source": [
        "##**8. What are logical operators in Python?**\n",
        "\n",
        "Logical operators in Python are used to combine conditional statements and evaluate boolean expressions. The main logical operators are:\n",
        "- `and`: Returns `True` if both operands are true.\n",
        "- `or`: Returns `True` if at least one operand is true.\n",
        "- `not`: Returns the opposite of the operand's boolean value."
      ]
    },
    {
      "cell_type": "markdown",
      "metadata": {
        "id": "cb95ef7e"
      },
      "source": [
        "##**9. What is type casting in Python?**\n",
        "\n",
        "Type casting (also known as type conversion) in Python is the process of converting a value from one data type to another."
      ]
    },
    {
      "cell_type": "markdown",
      "metadata": {
        "id": "7dd9b531"
      },
      "source": [
        "##**10. What is the difference between implicit and explicit type casting?**\n",
        "\n",
        "- **Implicit type casting (coercion):** This happens automatically when Python converts one data type to another during an operation without any explicit instruction from the programmer. For example, when adding an integer and a float, Python implicitly converts the integer to a float before performing the addition.\n",
        "- **Explicit type casting:** This happens when the programmer explicitly converts one data type to another using built-in functions like `int()`, `float()`, `str()`, `list()`, `tuple()`, etc."
      ]
    },
    {
      "cell_type": "markdown",
      "metadata": {
        "id": "492c0922"
      },
      "source": [
        "##**11. What is the purpose of conditional statements in Python?**\n",
        "\n",
        "Conditional statements in Python (like `if`, `elif`, and `else`) are used to execute different blocks of code based on whether a specified condition is true or false. They allow programs to make decisions and control the flow of execution."
      ]
    },
    {
      "cell_type": "markdown",
      "metadata": {
        "id": "d0da9c5a"
      },
      "source": [
        "##**12. How does the elif statement work?**\n",
        "\n",
        "The `elif` (short for \"else if\") statement in Python is used to check multiple conditions sequentially after an initial `if` statement. If the `if` condition is false, Python checks the `elif` condition. If the `elif` condition is true, the code block under that `elif` is executed. You can have multiple `elif` statements. If all `if` and `elif` conditions are false, the code block under the optional `else` statement is executed."
      ]
    },
    {
      "cell_type": "markdown",
      "metadata": {
        "id": "1b46dcdb"
      },
      "source": [
        "##**13. What is the difference between for and while loops?**\n",
        "\n",
        "- **`for` loop:** Used for iterating over a sequence (like a list, tuple, string, or range) or any iterable object. It executes a block of code for each item in the sequence. The number of iterations is usually known beforehand.\n",
        "- **`while` loop:** Used to repeatedly execute a block of code as long as a given condition is true. The loop continues until the condition becomes false. The number of iterations is not necessarily known beforehand and depends on when the condition changes."
      ]
    },
    {
      "cell_type": "markdown",
      "metadata": {
        "id": "17619f18"
      },
      "source": [
        "##**14. Describe a scenario where a while loop is more suitable than a for loop.**\n",
        "\n",
        "A `while` loop is more suitable than a `for` loop when the number of iterations is not known in advance and the loop should continue based on a condition. For example, reading data from a file until the end of the file is reached, or waiting for a user input that meets a specific criteria."
      ]
    },
    {
      "cell_type": "markdown",
      "source": [
        "# **Practical Questions**"
      ],
      "metadata": {
        "id": "OxHCROSizKyU"
      }
    },
    {
      "cell_type": "markdown",
      "metadata": {
        "id": "13e79e78"
      },
      "source": [
        "##**1. Write a Python program to print \"Hello, World!\"**"
      ]
    },
    {
      "cell_type": "code",
      "metadata": {
        "colab": {
          "base_uri": "https://localhost:8080/"
        },
        "id": "de281139",
        "outputId": "da6127d1-b183-47c4-fec3-7a54b0d7c305"
      },
      "source": [
        "print(\"Hello, World!\")"
      ],
      "execution_count": 6,
      "outputs": [
        {
          "output_type": "stream",
          "name": "stdout",
          "text": [
            "Hello, World!\n"
          ]
        }
      ]
    },
    {
      "cell_type": "markdown",
      "metadata": {
        "id": "de4dd1b9"
      },
      "source": [
        "##**2. Write a Python program that displays your name and age.**"
      ]
    },
    {
      "cell_type": "code",
      "metadata": {
        "colab": {
          "base_uri": "https://localhost:8080/"
        },
        "id": "7a09a002",
        "outputId": "637cbffe-f4cd-429e-d8d5-67b60af5c71c"
      },
      "source": [
        "name = \"Rahul Nimbai\"  # Replace with your name\n",
        "age = 22           # Replace with your age\n",
        "\n",
        "print(f\"My name is {name} and I am {age} years old.\")"
      ],
      "execution_count": 8,
      "outputs": [
        {
          "output_type": "stream",
          "name": "stdout",
          "text": [
            "My name is Rahul Nimbai and I am 22 years old.\n"
          ]
        }
      ]
    },
    {
      "cell_type": "markdown",
      "metadata": {
        "id": "e680e76f"
      },
      "source": [
        "##**3. Write code to print all the pre-defined keywords in Python using the keyword library.**"
      ]
    },
    {
      "cell_type": "code",
      "metadata": {
        "colab": {
          "base_uri": "https://localhost:8080/"
        },
        "id": "75ff6731",
        "outputId": "f7e36db5-8bf2-4155-a381-33b985a15b12"
      },
      "source": [
        "import keyword\n",
        "print(keyword.kwlist)"
      ],
      "execution_count": 9,
      "outputs": [
        {
          "output_type": "stream",
          "name": "stdout",
          "text": [
            "['False', 'None', 'True', 'and', 'as', 'assert', 'async', 'await', 'break', 'class', 'continue', 'def', 'del', 'elif', 'else', 'except', 'finally', 'for', 'from', 'global', 'if', 'import', 'in', 'is', 'lambda', 'nonlocal', 'not', 'or', 'pass', 'raise', 'return', 'try', 'while', 'with', 'yield']\n"
          ]
        }
      ]
    },
    {
      "cell_type": "markdown",
      "metadata": {
        "id": "ef02c704"
      },
      "source": [
        "##**4. Write a program that checks if a given word is a Python keyword.**"
      ]
    },
    {
      "cell_type": "code",
      "metadata": {
        "colab": {
          "base_uri": "https://localhost:8080/"
        },
        "id": "1c8a4f5e",
        "outputId": "56145747-ac4e-4069-da9e-4313d7682157"
      },
      "source": [
        "import keyword\n",
        "\n",
        "word = \"for\"  # Replace with the word you want to check\n",
        "\n",
        "if keyword.iskeyword(word):\n",
        "  print(f\"'{word}' is a Python keyword.\")\n",
        "else:\n",
        "  print(f\"'{word}' is not a Python keyword.\")"
      ],
      "execution_count": 10,
      "outputs": [
        {
          "output_type": "stream",
          "name": "stdout",
          "text": [
            "'for' is a Python keyword.\n"
          ]
        }
      ]
    },
    {
      "cell_type": "markdown",
      "metadata": {
        "id": "2b08a612"
      },
      "source": [
        "##**5. Create a list and tuple in Python, and demonstrate how attempting to change an element works differently for each.**"
      ]
    },
    {
      "cell_type": "code",
      "metadata": {
        "colab": {
          "base_uri": "https://localhost:8080/"
        },
        "id": "feb7f453",
        "outputId": "57f93457-eacc-438a-d80f-126a5f789575"
      },
      "source": [
        "# Demonstrate list mutability\n",
        "my_list = [1, 2, 3]\n",
        "print(\"Original list:\", my_list)\n",
        "my_list[0] = 10\n",
        "print(\"Modified list:\", my_list)\n",
        "\n",
        "# Demonstrate tuple immutability\n",
        "my_tuple = (1, 2, 3)\n",
        "print(\"\\nOriginal tuple:\", my_tuple)\n",
        "try:\n",
        "  my_tuple[0] = 10\n",
        "except TypeError as e:\n",
        "  print(\"Error modifying tuple:\", e)"
      ],
      "execution_count": 11,
      "outputs": [
        {
          "output_type": "stream",
          "name": "stdout",
          "text": [
            "Original list: [1, 2, 3]\n",
            "Modified list: [10, 2, 3]\n",
            "\n",
            "Original tuple: (1, 2, 3)\n",
            "Error modifying tuple: 'tuple' object does not support item assignment\n"
          ]
        }
      ]
    },
    {
      "cell_type": "markdown",
      "metadata": {
        "id": "3a1f2f3e"
      },
      "source": [
        "##**6. Write a function to demonstrate the behavior of mutable and immutable arguments.**"
      ]
    },
    {
      "cell_type": "code",
      "metadata": {
        "colab": {
          "base_uri": "https://localhost:8080/"
        },
        "id": "189573f6",
        "outputId": "9c72e1d4-d09e-4acc-95bd-0f89cfc5e226"
      },
      "source": [
        "def modify_list(my_list):\n",
        "  \"\"\"Demonstrates modifying a mutable argument (list).\"\"\"\n",
        "  my_list.append(4)\n",
        "  print(\"Inside function (mutable):\", my_list)\n",
        "\n",
        "def modify_string(my_string):\n",
        "  \"\"\"Demonstrates that modifying an immutable argument (string) creates a new object.\"\"\"\n",
        "  my_string = my_string + \" world\"\n",
        "  print(\"Inside function (immutable):\", my_string)\n",
        "\n",
        "# Demonstrate with a mutable list\n",
        "my_list = [1, 2, 3]\n",
        "print(\"Before function call (mutable):\", my_list)\n",
        "modify_list(my_list)\n",
        "print(\"After function call (mutable):\", my_list)\n",
        "\n",
        "# Demonstrate with an immutable string\n",
        "my_string = \"hello\"\n",
        "print(\"\\nBefore function call (immutable):\", my_string)\n",
        "modify_string(my_string)\n",
        "print(\"After function call (immutable):\", my_string)"
      ],
      "execution_count": 12,
      "outputs": [
        {
          "output_type": "stream",
          "name": "stdout",
          "text": [
            "Before function call (mutable): [1, 2, 3]\n",
            "Inside function (mutable): [1, 2, 3, 4]\n",
            "After function call (mutable): [1, 2, 3, 4]\n",
            "\n",
            "Before function call (immutable): hello\n",
            "Inside function (immutable): hello world\n",
            "After function call (immutable): hello\n"
          ]
        }
      ]
    },
    {
      "cell_type": "markdown",
      "metadata": {
        "id": "119c0e05"
      },
      "source": [
        "##**7. Write a program that performs basic arithmetic operations on two user-input numbers.**"
      ]
    },
    {
      "cell_type": "code",
      "metadata": {
        "colab": {
          "base_uri": "https://localhost:8080/"
        },
        "id": "fbf4f4ea",
        "outputId": "0e7d3544-0e08-4429-a22f-7946ac6d0aa4"
      },
      "source": [
        "num1 = float(input(\"Enter the first number: \"))\n",
        "num2 = float(input(\"Enter the second number: \"))\n",
        "\n",
        "print(f\"{num1} + {num2} = {num1 + num2}\")\n",
        "print(f\"{num1} - {num2} = {num1 - num2}\")\n",
        "print(f\"{num1} * {num2} = {num1 * num2}\")\n",
        "if num2 != 0:\n",
        "  print(f\"{num1} / {num2} = {num1 / num2}\")\n",
        "else:\n",
        "  print(\"Cannot divide by zero.\")"
      ],
      "execution_count": 13,
      "outputs": [
        {
          "output_type": "stream",
          "name": "stdout",
          "text": [
            "Enter the first number: 12\n",
            "Enter the second number: 21\n",
            "12.0 + 21.0 = 33.0\n",
            "12.0 - 21.0 = -9.0\n",
            "12.0 * 21.0 = 252.0\n",
            "12.0 / 21.0 = 0.5714285714285714\n"
          ]
        }
      ]
    },
    {
      "cell_type": "markdown",
      "metadata": {
        "id": "780ea796"
      },
      "source": [
        "##**8. Write a program to demonstrate the use of logical operators.**"
      ]
    },
    {
      "cell_type": "code",
      "metadata": {
        "colab": {
          "base_uri": "https://localhost:8080/"
        },
        "id": "d96efe73",
        "outputId": "5869b139-1154-49c0-e4f6-684ba01be8f8"
      },
      "source": [
        "p = True\n",
        "q = False\n",
        "\n",
        "print(f\"p and q: {p and q}\")\n",
        "print(f\"p or q: {p or q}\")\n",
        "print(f\"not p: {not p}\")"
      ],
      "execution_count": 14,
      "outputs": [
        {
          "output_type": "stream",
          "name": "stdout",
          "text": [
            "p and q: False\n",
            "p or q: True\n",
            "not p: False\n"
          ]
        }
      ]
    },
    {
      "cell_type": "markdown",
      "metadata": {
        "id": "7af2f871"
      },
      "source": [
        "##**9. Write a Python program to convert user input from string to integer, float, and boolean types.**"
      ]
    },
    {
      "cell_type": "code",
      "metadata": {
        "colab": {
          "base_uri": "https://localhost:8080/"
        },
        "id": "1ce71c10",
        "outputId": "7627b322-1b5d-4f77-bada-8dd2457a38dd"
      },
      "source": [
        "user_input_string = input(\"Enter a value: \")\n",
        "\n",
        "# Convert to integer\n",
        "try:\n",
        "  int_value = int(user_input_string)\n",
        "  print(f\"Integer conversion: {int_value} (type: {type(int_value)})\")\n",
        "except ValueError:\n",
        "  print(\"Cannot convert to integer.\")\n",
        "\n",
        "# Convert to float\n",
        "try:\n",
        "  float_value = float(user_input_string)\n",
        "  print(f\"Float conversion: {float_value} (type: {type(float_value)})\")\n",
        "except ValueError:\n",
        "  print(\"Cannot convert to float.\")\n",
        "\n",
        "# Convert to boolean (simple examples)\n",
        "# 'True', 'False', non-empty strings are True, empty string is False\n",
        "bool_value = bool(user_input_string)\n",
        "print(f\"Boolean conversion: {bool_value} (type: {type(bool_value)})\")\n",
        "\n",
        "# More specific boolean conversion for 'True'/'False' strings\n",
        "if user_input_string.lower() == 'true':\n",
        "    bool_value_specific = True\n",
        "    print(f\"Specific boolean conversion ('true'): {bool_value_specific} (type: {type(bool_value_specific)})\")\n",
        "elif user_input_string.lower() == 'false':\n",
        "    bool_value_specific = False\n",
        "    print(f\"Specific boolean conversion ('false'): {bool_value_specific} (type: {type(bool_value_specific)})\")"
      ],
      "execution_count": 18,
      "outputs": [
        {
          "output_type": "stream",
          "name": "stdout",
          "text": [
            "Enter a value: 11\n",
            "Integer conversion: 11 (type: <class 'int'>)\n",
            "Float conversion: 11.0 (type: <class 'float'>)\n",
            "Boolean conversion: True (type: <class 'bool'>)\n"
          ]
        }
      ]
    },
    {
      "cell_type": "markdown",
      "metadata": {
        "id": "be56cf77"
      },
      "source": [
        "##**10. Write code to demonstrate type casting with list elements.**"
      ]
    },
    {
      "cell_type": "code",
      "metadata": {
        "colab": {
          "base_uri": "https://localhost:8080/"
        },
        "id": "3aabb860",
        "outputId": "b8b2288e-eb16-4439-eb37-14c3b5e64407"
      },
      "source": [
        "my_list = [\"1\", \"2\", \"3.14\", \"True\"]\n",
        "print(f\"Original list: {my_list}\")\n",
        "\n",
        "# Type casting elements to integers\n",
        "# We can only convert items that are valid integers\n",
        "int_list = []\n",
        "for item in my_list:\n",
        "    try:\n",
        "        int_list.append(int(item))\n",
        "    except ValueError:\n",
        "        int_list.append(f\"Cannot convert '{item}' to int\") # Indicate items that couldn't be converted\n",
        "print(f\"List after casting to integers: {int_list}\")\n",
        "\n",
        "\n",
        "# Type casting elements to floats\n",
        "# We can only convert items that are valid floats\n",
        "float_list = []\n",
        "for item in my_list:\n",
        "    try:\n",
        "        float_list.append(float(item))\n",
        "    except ValueError:\n",
        "        float_list.append(f\"Cannot convert '{item}' to float\") # Indicate items that couldn't be converted\n",
        "print(f\"List after casting to floats: {float_list}\")\n",
        "\n",
        "\n",
        "# Type casting elements to booleans\n",
        "bool_list = [bool(item) for item in my_list]\n",
        "print(f\"List after casting to booleans: {bool_list}\")\n",
        "\n",
        "# Example of casting a string that represents a boolean\n",
        "bool_from_string = [item.lower() == 'true' for item in my_list]\n",
        "print(f\"List after casting 'true'/'false' strings to booleans: {bool_from_string}\")"
      ],
      "execution_count": 19,
      "outputs": [
        {
          "output_type": "stream",
          "name": "stdout",
          "text": [
            "Original list: ['1', '2', '3.14', 'True']\n",
            "List after casting to integers: [1, 2, \"Cannot convert '3.14' to int\", \"Cannot convert 'True' to int\"]\n",
            "List after casting to floats: [1.0, 2.0, 3.14, \"Cannot convert 'True' to float\"]\n",
            "List after casting to booleans: [True, True, True, True]\n",
            "List after casting 'true'/'false' strings to booleans: [False, False, False, True]\n"
          ]
        }
      ]
    },
    {
      "cell_type": "markdown",
      "metadata": {
        "id": "6419109f"
      },
      "source": [
        "##**11. Write a program that checks if a number is positive, negative, or zero.**"
      ]
    },
    {
      "cell_type": "code",
      "metadata": {
        "colab": {
          "base_uri": "https://localhost:8080/"
        },
        "id": "9b1efab9",
        "outputId": "5491959f-a4d4-4ef1-d64e-677ed24bdc21"
      },
      "source": [
        "num = float(input(\"Enter a number: \"))\n",
        "\n",
        "if num > 0:\n",
        "  print(f\"{num} is positive.\")\n",
        "elif num < 0:\n",
        "  print(f\"{num} is negative.\")\n",
        "else:\n",
        "  print(f\"{num} is zero.\")"
      ],
      "execution_count": 20,
      "outputs": [
        {
          "output_type": "stream",
          "name": "stdout",
          "text": [
            "Enter a number: 11\n",
            "11.0 is positive.\n"
          ]
        }
      ]
    },
    {
      "cell_type": "markdown",
      "metadata": {
        "id": "897b1c8f"
      },
      "source": [
        "##**12. Write a for loop to print numbers from 1 to 10.**"
      ]
    },
    {
      "cell_type": "code",
      "metadata": {
        "colab": {
          "base_uri": "https://localhost:8080/"
        },
        "id": "7e721da2",
        "outputId": "62cb0914-7f02-45e3-bd4a-9788e6824463"
      },
      "source": [
        "for i in range(1, 11):\n",
        "  print(i)"
      ],
      "execution_count": 21,
      "outputs": [
        {
          "output_type": "stream",
          "name": "stdout",
          "text": [
            "1\n",
            "2\n",
            "3\n",
            "4\n",
            "5\n",
            "6\n",
            "7\n",
            "8\n",
            "9\n",
            "10\n"
          ]
        }
      ]
    },
    {
      "cell_type": "markdown",
      "metadata": {
        "id": "f310fae8"
      },
      "source": [
        "##**13. Write a Python program to find the sum of all even numbers between 1 and 50.**"
      ]
    },
    {
      "cell_type": "code",
      "metadata": {
        "colab": {
          "base_uri": "https://localhost:8080/"
        },
        "id": "695c0778",
        "outputId": "dd2d2da6-00f0-4e91-ebde-fc4ef469ce4c"
      },
      "source": [
        "sum_even = 0\n",
        "for num in range(2, 51, 2):\n",
        "  sum_even += num\n",
        "print(f\"The sum of even numbers between 1 and 50 is: {sum_even}\")"
      ],
      "execution_count": 22,
      "outputs": [
        {
          "output_type": "stream",
          "name": "stdout",
          "text": [
            "The sum of even numbers between 1 and 50 is: 650\n"
          ]
        }
      ]
    },
    {
      "cell_type": "markdown",
      "metadata": {
        "id": "0aa96d33"
      },
      "source": [
        "##**14. Write a program to reverse a string using a while loop.**"
      ]
    },
    {
      "cell_type": "code",
      "metadata": {
        "colab": {
          "base_uri": "https://localhost:8080/"
        },
        "id": "b4b53a98",
        "outputId": "e3d6c74f-bb27-49dc-de20-19fa7538257b"
      },
      "source": [
        "input_string = \"practical\"\n",
        "reversed_string = \"\"\n",
        "index = len(input_string) - 1\n",
        "\n",
        "while index >= 0:\n",
        "  reversed_string += input_string[index]\n",
        "  index -= 1\n",
        "\n",
        "print(f\"Original string: {input_string}\")\n",
        "print(f\"Reversed string: {reversed_string}\")"
      ],
      "execution_count": 25,
      "outputs": [
        {
          "output_type": "stream",
          "name": "stdout",
          "text": [
            "Original string: practical\n",
            "Reversed string: lacitcarp\n"
          ]
        }
      ]
    },
    {
      "cell_type": "markdown",
      "metadata": {
        "id": "7d69f18f"
      },
      "source": [
        "##**15. Write a Python program to calculate the factorial of a number provided by the user using a while loop.**"
      ]
    },
    {
      "cell_type": "code",
      "metadata": {
        "colab": {
          "base_uri": "https://localhost:8080/"
        },
        "id": "9424948f",
        "outputId": "7ab9ddbf-3c24-4637-eec8-fa5fa47b54cc"
      },
      "source": [
        "num = int(input(\"Enter a non-negative integer: \"))\n",
        "\n",
        "if num < 0:\n",
        "   print(\"Factorial does not exist for negative numbers\")\n",
        "elif num == 0:\n",
        "   print(\"The factorial of 0 is 1\")\n",
        "else:\n",
        "   factorial = 1\n",
        "   i = 1\n",
        "   while i <= num:\n",
        "       factorial = factorial * i\n",
        "       i = i + 1\n",
        "   print(f\"The factorial of {num} is {factorial}\")"
      ],
      "execution_count": 24,
      "outputs": [
        {
          "output_type": "stream",
          "name": "stdout",
          "text": [
            "Enter a non-negative integer: 5\n",
            "The factorial of 5 is 120\n"
          ]
        }
      ]
    }
  ]
}